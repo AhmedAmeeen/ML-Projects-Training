{
 "cells": [
  {
   "cell_type": "markdown",
   "id": "5e289a4c",
   "metadata": {},
   "source": [
    "# Variabilty Masures "
   ]
  },
  {
   "cell_type": "markdown",
   "id": "fb0d669a",
   "metadata": {},
   "source": [
    "![type of data](knn/typeofdata.png)"
   ]
  },
  {
   "cell_type": "markdown",
   "id": "021ff72a",
   "metadata": {},
   "source": [
    "## 1. Range :\n",
    "* The simplest measure, representing the difference between the highest and lowest values in the data set."
   ]
  },
  {
   "cell_type": "markdown",
   "id": "824153ab",
   "metadata": {},
   "source": [
    "$$ \\ range = maximum value - minimum value $$"
   ]
  },
  {
   "cell_type": "markdown",
   "id": "e343071e",
   "metadata": {},
   "source": [
    "## 2. Inter Qurtile Range (IQR):\n",
    "* Focuses on the middle half of the data, representing the spread within the central 50% of the data points.\n",
    "* Q3 (third quartile): The value at the 75th percentile (75% of data points are below it).\n",
    "* Q1 (first quartile): The value at the 25th percentile (25% of data points are below it)"
   ]
  },
  {
   "cell_type": "markdown",
   "id": "f3fa4239",
   "metadata": {},
   "source": [
    "$$ \\ IQR = Q3-Q1  $$"
   ]
  },
  {
   "cell_type": "markdown",
   "id": "4ea70519",
   "metadata": {},
   "source": [
    "## 3. Variance :\n",
    "* Measures the average squared deviation of all data points from the mean. It is sensitive to outliers as squaring emphasizes extreme differences. \n",
    "    * __Population variance (σ^2)__\n",
    "        $$\\sigma ^2 = \\sum \\frac{(x_i - \\mu)^2}{n}$$\n",
    "    * __Sample variance (s^2):__\n",
    "        $$ s^2 = \\sum \\frac {(x_i-\\hat x)^2}{n-1} $$\n",
    "        * __definations__ :\n",
    "            * Σ (capital sigma): Summation symbol for all data points (X_i)\n",
    "            * X_i: Individual data point\n",
    "            * μ: Population mean\n",
    "            * N: Total number of data points in the population\n",
    "            * X̅: Sample mean"
   ]
  },
  {
   "cell_type": "markdown",
   "id": "ee9dcee9",
   "metadata": {},
   "source": [
    "## 4. Standered Deviation(SD)  :\n",
    "* The square root of the variance, expressing variability in the same units as the original data. It is often preferred to variance due to easier interpretation.\n",
    "    * __Population Standered Deviation (σ)__\n",
    "$$\\sigma = \\sqrt {\\sum \\frac{(x_i - \\mu)^2}{n}}$$\n",
    "    * __Sample Standered Deviation (s):__\n",
    "$$ s = \\sqrt {\\sum \\frac {(x_i-\\hat x)^2}{n-1}} $$"
   ]
  },
  {
   "cell_type": "markdown",
   "id": "5fb598c3",
   "metadata": {},
   "source": [
    "## 5. Coeffeciant variance\n",
    "* it measure the standered diviaton to the mean/average and it preffered to use it to compare between two or more samples from the data point \n",
    "* the less or close to 0% that mean the data is more predictable and good staff\n",
    "    * Population CV:\n",
    "$$CV = \\frac {\\sigma}{\\mu} \\times 100$$\n",
    "    * Sample CV:\n",
    "$$ CV = \\frac {s}{\\bar X} \\times 100$$ \n",
    "\n",
    "* $\\color{red} {just-remember-that-𝜎-or-s-is-the-standerd-deviation-(population/samples)} $"
   ]
  },
  {
   "cell_type": "code",
   "execution_count": null,
   "id": "46e2622d",
   "metadata": {},
   "outputs": [],
   "source": []
  }
 ],
 "metadata": {
  "kernelspec": {
   "display_name": "Python 3 (ipykernel)",
   "language": "python",
   "name": "python3"
  },
  "language_info": {
   "codemirror_mode": {
    "name": "ipython",
    "version": 3
   },
   "file_extension": ".py",
   "mimetype": "text/x-python",
   "name": "python",
   "nbconvert_exporter": "python",
   "pygments_lexer": "ipython3",
   "version": "3.8.13"
  }
 },
 "nbformat": 4,
 "nbformat_minor": 5
}
